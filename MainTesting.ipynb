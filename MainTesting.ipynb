{
 "cells": [
  {
   "cell_type": "code",
   "execution_count": null,
   "id": "69527127",
   "metadata": {},
   "outputs": [],
   "source": [
    "import math\n",
    "class manipulate:\n",
    "    def compareSize(img1,img2): \n",
    "        height1, width1, = img.shape[:2] #(height, width, num layers)\n",
    "        height2, width2, = img2.shape[:2]\n",
    "        # test case  Height 3456 * width 5184 = img 1\n",
    "        # test case 512 * 512  = img 2\n",
    "        difHeight = abs(height1 - height2)\n",
    "        difWidth = abs(width1 - width2)\n",
    "        return (difHeight,difWidth)\n",
    "    \n",
    "    def createImageToMatch(img,differance):\n",
    "        #in test case 2944 , 4672\n",
    "        # left width\n",
    "        top, bottom = math.floor((differance[0])/2),math.ceil((differance[0])/2)\n",
    "        right, left = math.floor((differance[1])/2),math.ceil((differance[1])/2)\n",
    "        resizedImage = cv2.copyMakeBorder(img,top,bottom,left,right,cv2.BORDER_CONSTANT, value= [0,0,0])        \n",
    "        return resizedImage\n",
    "    def addImageToImage(img1,img2):\n",
    "        dif = manipulate.compareSize(img1,img2)\n",
    "        difHeight = (dif[0])//2\n",
    "        difWidth = (dif[1])//2\n",
    "        height, width = img2.shape[:2]\n",
    "        for y in range(height):\n",
    "            for x in range(width):\n",
    "                if all(img2[y][x] != [0,0,0]):\n",
    "                    img1[(y+difHeight)][(x+difWidth)] = img2[y][x]\n",
    "        return img1\n",
    "    "
   ]
  },
  {
   "cell_type": "code",
   "execution_count": null,
   "id": "b748b404",
   "metadata": {},
   "outputs": [],
   "source": [
    "dif = manipulate.compareSize(img,imgStar)\n",
    "newStar = manipulate.createImageToMatch(imgStar,dif)\n",
    "\n",
    "\n",
    "newImage = manipulate.addImageToImage(img,newStar)\n",
    "# cv2.imshow(\"check\", newImage)\n",
    "# cv2.imshow(-1)\n",
    "cv2.imwrite(\"test.jpg\",newImage)\n"
   ]
  },
  {
   "cell_type": "code",
   "execution_count": 10,
   "id": "96927449",
   "metadata": {},
   "outputs": [
    {
     "name": "stdout",
     "output_type": "stream",
     "text": [
      "1\n"
     ]
    }
   ],
   "source": [
    "import cv2\n",
    "import numpy as np\n",
    "import sys\n",
    "\n",
    "img = cv2.imread(\"./maze3.jpg\",cv2.IMREAD_GRAYSCALE)\n",
    "_, binary_img = cv2.threshold(img, 127, 1, cv2.THRESH_BINARY)\n",
    "\n",
    "np.set_printoptions(threshold=sys.maxsize)\n",
    "# np.set_printoptions(threshold=1000)\n",
    "print(binary_img[5][250])"
   ]
  }
 ],
 "metadata": {
  "kernelspec": {
   "display_name": "Python 3",
   "language": "python",
   "name": "python3"
  },
  "language_info": {
   "codemirror_mode": {
    "name": "ipython",
    "version": 3
   },
   "file_extension": ".py",
   "mimetype": "text/x-python",
   "name": "python",
   "nbconvert_exporter": "python",
   "pygments_lexer": "ipython3",
   "version": "3.12.2"
  }
 },
 "nbformat": 4,
 "nbformat_minor": 5
}
