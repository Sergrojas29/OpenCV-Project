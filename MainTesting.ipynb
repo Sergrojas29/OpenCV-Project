{
 "cells": [
  {
   "cell_type": "code",
   "execution_count": 2,
   "id": "72af535b",
   "metadata": {},
   "outputs": [],
   "source": [
    "import os\n",
    "\n",
    "files = os.listdir(\"./images\")\n"
   ]
  },
  {
   "cell_type": "code",
   "execution_count": 3,
   "id": "4874d8a1",
   "metadata": {},
   "outputs": [
    {
     "data": {
      "text/plain": [
       "True"
      ]
     },
     "execution_count": 3,
     "metadata": {},
     "output_type": "execute_result"
    }
   ],
   "source": [
    "import cv2\n",
    "\n",
    "location = \"./images/\"+files[0]\n",
    "\n",
    "\n",
    "img = cv2.imread('./images/IMG_9109.JPG')\n",
    "imgStar = cv2.imread('./images/star.png')\n",
    "newH, newW = img.shape[:2]\n",
    "\n",
    "BLACK = [0,0,0]\n",
    "\n",
    "newStar = cv2.copyMakeBorder(imgStar,250,250,250,250,cv2.BORDER_CONSTANT, value= BLACK)\n",
    "\n",
    "cv2.imwrite('newStar.jpg', newStar)\n",
    "\n",
    "\n"
   ]
  },
  {
   "cell_type": "code",
   "execution_count": 4,
   "id": "69527127",
   "metadata": {},
   "outputs": [],
   "source": [
    "import math\n",
    "class manipulate:\n",
    "    def compareSize(img1,img2): \n",
    "        height1, width1, = img.shape[:2] #(height, width, num layers)\n",
    "        height2, width2, = img2.shape[:2]\n",
    "        # test case  Height 3456 * width 5184 = img 1\n",
    "        # test case 512 * 512  = img 2\n",
    "        difHeight = abs(height1 - height2)\n",
    "        difWidth = abs(width1 - width2)\n",
    "        return (difHeight,difWidth)\n",
    "    \n",
    "    def createImageToMatch(img,differance):\n",
    "        #in test case 2944 , 4672\n",
    "        # left width\n",
    "        top, bottom = math.floor((differance[0])/2),math.ceil((differance[0])/2)\n",
    "        right, left = math.floor((differance[1])/2),math.ceil((differance[1])/2)\n",
    "        resizedImage = cv2.copyMakeBorder(img,top,bottom,left,right,cv2.BORDER_CONSTANT, value= [0,0,0])        \n",
    "        return resizedImage\n",
    "    def addImageToImage(img1,img2):\n",
    "        dif = manipulate.compareSize(img1,img2)\n",
    "        difHeight = (dif[0])//2\n",
    "        difWidth = (dif[1])//2\n",
    "        height, width = img2.shape[:2]\n",
    "        for y in range(height):\n",
    "            for x in range(width):\n",
    "                if all(img2[y][x] != [0,0,0]):\n",
    "                    img1[(y+difHeight)][(x+difWidth)] = img2[y][x]\n",
    "        return img1\n",
    "    "
   ]
  },
  {
   "cell_type": "code",
   "execution_count": null,
   "id": "7c86661e",
   "metadata": {},
   "outputs": [],
   "source": []
  },
  {
   "cell_type": "code",
   "execution_count": 5,
   "id": "b748b404",
   "metadata": {},
   "outputs": [
    {
     "data": {
      "text/plain": [
       "True"
      ]
     },
     "execution_count": 5,
     "metadata": {},
     "output_type": "execute_result"
    }
   ],
   "source": [
    "dif = manipulate.compareSize(img,imgStar)\n",
    "newStar = manipulate.createImageToMatch(imgStar,dif)\n",
    "\n",
    "\n",
    "newImage = manipulate.addImageToImage(img,newStar)\n",
    "# cv2.imshow(\"check\", newImage)\n",
    "# cv2.imshow(-1)\n",
    "cv2.imwrite(\"test.jpg\",newImage)\n"
   ]
  },
  {
   "cell_type": "code",
   "execution_count": null,
   "id": "39237b85",
   "metadata": {},
   "outputs": [
    {
     "data": {
      "image/png": "[encoded data removed]",
      "text/plain": [
       "<Figure size 640x480 with 1 Axes>"
      ]
     },
     "metadata": {},
     "output_type": "display_data"
    }
   ],
   "source": [
    "import cv2\n",
    "import numpy as np\n",
    "from matplotlib import pyplot as plt\n",
    "from collections import deque\n",
    "import heapq\n",
    "\n",
    "# Load the image\n",
    "maze_path = \"./maze.png\"\n",
    "maze_img = cv2.imread(maze_path, cv2.IMREAD_GRAYSCALE)\n",
    "\n",
    "# Threshold the image: white path = 255, black wall = 0\n",
    "_, binary_maze = cv2.threshold(maze_img, 127, 255, cv2.THRESH_BINARY)\n",
    "\n",
    "\n",
    "\n",
    "\n",
    "# Convert to 0 (wall) and 1 (path)\n",
    "maze = (binary_maze == 255).astype(np.uint8)\n",
    "h, w = maze.shape\n",
    "start = (1, 1)\n",
    "goal = (w - 2, h - 2)\n",
    "\n",
    "# Helper: check if a pixel is in bounds and not a wall\n",
    "def is_valid(x, y, visited):\n",
    "    return 0 <= x < w and 0 <= y < h and maze[y, x] == 1 and not visited[y][x]\n",
    "\n",
    "# DFS implementation\n",
    "def dfs(x, y, goal, visited, path):\n",
    "    if (x, y) == goal:\n",
    "        path.append((x, y))\n",
    "        return True\n",
    "    visited[y][x] = True\n",
    "    path.append((x, y))\n",
    "    for dx, dy in [(1,0), (0,-1), (-1,0), (0,1)]:  # R, U, L, D\n",
    "        nx, ny = x + dx, y + dy\n",
    "        if is_valid(nx, ny, visited):\n",
    "            if dfs(nx, ny, goal, visited, path):\n",
    "                return True\n",
    "    path.pop()\n",
    "    return False\n",
    "\n",
    "# BFS implementation\n",
    "def bfs(start, goal):\n",
    "    visited = [[False]*w for _ in range(h)]\n",
    "    queue = deque([(start, [start])])\n",
    "    while queue:\n",
    "        (x, y), path = queue.popleft()\n",
    "        if (x, y) == goal:\n",
    "            return path\n",
    "        for dx, dy in [(1,0), (0,-1), (-1,0), (0,1)]:\n",
    "            nx, ny = x + dx, y + dy\n",
    "            if is_valid(nx, ny, visited):\n",
    "                visited[ny][nx] = True\n",
    "                queue.append(((nx, ny), path + [(nx, ny)]))\n",
    "    return []\n",
    "\n",
    "# Dijkstra implementation\n",
    "def dijkstra(start, goal):\n",
    "    dist = np.full((h, w), np.inf)\n",
    "    prev = dict()\n",
    "    dist[start[1], start[0]] = 0\n",
    "    heap = [(0, start)]\n",
    "    visited = set()\n",
    "\n",
    "    while heap:\n",
    "        cost, (x, y) = heapq.heappop(heap)\n",
    "        if (x, y) in visited:\n",
    "            continue\n",
    "        visited.add((x, y))\n",
    "        if (x, y) == goal:\n",
    "            break\n",
    "        for dx, dy in [(1,0), (0,-1), (-1,0), (0,1)]:\n",
    "            nx, ny = x + dx, y + dy\n",
    "            if 0 <= nx < w and 0 <= ny < h and maze[ny, nx] == 1:\n",
    "                new_cost = cost + 1\n",
    "                if new_cost < dist[ny, nx]:\n",
    "                    dist[ny, nx] = new_cost\n",
    "                    prev[(nx, ny)] = (x, y)\n",
    "                    heapq.heappush(heap, (new_cost, (nx, ny)))\n",
    "\n",
    "    # Reconstruct path\n",
    "    path = []\n",
    "    current = goal\n",
    "    while current in prev:\n",
    "        path.append(current)\n",
    "        current = prev[current]\n",
    "    path.append(start)\n",
    "    path.reverse()\n",
    "    return path\n",
    "\n",
    "# Run the algorithms\n",
    "visited_dfs = [[False]*w for _ in range(h)]\n",
    "dfs_path = []\n",
    "dfs(start[0], start[1], goal, visited_dfs, dfs_path)\n",
    "bfs_path = bfs(start, goal)\n",
    "dijkstra_path = dijkstra(start, goal)\n",
    "\n",
    "# Draw all paths on the original RGB image\n",
    "maze_rgb = cv2.cvtColor(binary_maze, cv2.COLOR_GRAY2BGR)\n",
    "for (x, y) in dfs_path:\n",
    "    maze_rgb[y, x] = (255, 0, 0)    # Blue for DFS\n",
    "for (x, y) in bfs_path:\n",
    "    maze_rgb[y, x] = (0, 255, 0)    # Green for BFS\n",
    "for (x, y) in dijkstra_path:\n",
    "    maze_rgb[y, x] = (0, 0, 255)    # Red for Dijkstra\n",
    "\n",
    "# Resize for easier display\n",
    "resized = cv2.resize(maze_rgb, (512, 512), interpolation=cv2.INTER_NEAREST)\n",
    "plt.imshow(cv2.cvtColor(resized, cv2.COLOR_BGR2RGB))\n",
    "plt.title(\"Pathfinding Comparison\")\n",
    "plt.axis('off')\n",
    "plt.tight_layout()\n",
    "plt.show()"
   ]
  },
  {
   "cell_type": "code",
   "execution_count": 24,
   "id": "5800ce36",
   "metadata": {},
   "outputs": [],
   "source": [
    "def drawPath(img, path, pThick=2):\n",
    "    v = path[0]\n",
    "    x0, y0 = v[0], v[1]\n",
    "    for v in path:\n",
    "        x, y = v[0], v[1]\n",
    "        cv2.line(img,(x,y), (x0,y0), (255,0,0),pThick)\n",
    "        x0, y0 = x,y"
   ]
  },
  {
   "cell_type": "code",
   "execution_count": null,
   "id": "0460da88",
   "metadata": {},
   "outputs": [
    {
     "ename": "RecursionError",
     "evalue": "maximum recursion depth exceeded",
     "output_type": "error",
     "traceback": [
      "\u001b[31m---------------------------------------------------------------------------\u001b[39m",
      "\u001b[31mRecursionError\u001b[39m                            Traceback (most recent call last)",
      "\u001b[36mCell\u001b[39m\u001b[36m \u001b[39m\u001b[32mIn[25]\u001b[39m\u001b[32m, line 39\u001b[39m\n\u001b[32m     37\u001b[39m visited_dfs = [[\u001b[38;5;28;01mFalse\u001b[39;00m]*w \u001b[38;5;28;01mfor\u001b[39;00m _ \u001b[38;5;129;01min\u001b[39;00m \u001b[38;5;28mrange\u001b[39m(h)]\n\u001b[32m     38\u001b[39m dfs_path = []\n\u001b[32m---> \u001b[39m\u001b[32m39\u001b[39m \u001b[43mdfs\u001b[49m\u001b[43m(\u001b[49m\u001b[43mstart\u001b[49m\u001b[43m[\u001b[49m\u001b[32;43m0\u001b[39;49m\u001b[43m]\u001b[49m\u001b[43m,\u001b[49m\u001b[43m \u001b[49m\u001b[43mstart\u001b[49m\u001b[43m[\u001b[49m\u001b[32;43m1\u001b[39;49m\u001b[43m]\u001b[49m\u001b[43m,\u001b[49m\u001b[43m \u001b[49m\u001b[43mgoal\u001b[49m\u001b[43m,\u001b[49m\u001b[43m \u001b[49m\u001b[43mvisited_dfs\u001b[49m\u001b[43m,\u001b[49m\u001b[43m \u001b[49m\u001b[43mdfs_path\u001b[49m\u001b[43m)\u001b[49m\n\u001b[32m     41\u001b[39m \u001b[38;5;28mprint\u001b[39m(dfs_path)\n\u001b[32m     43\u001b[39m plt.imshow(maze_img)\n",
      "\u001b[36mCell\u001b[39m\u001b[36m \u001b[39m\u001b[32mIn[25]\u001b[39m\u001b[32m, line 31\u001b[39m, in \u001b[36mdfs\u001b[39m\u001b[34m(x, y, goal, visited, path)\u001b[39m\n\u001b[32m     29\u001b[39m     nx, ny = x + dx, y + dy\n\u001b[32m     30\u001b[39m     \u001b[38;5;28;01mif\u001b[39;00m is_valid(nx, ny, visited):\n\u001b[32m---> \u001b[39m\u001b[32m31\u001b[39m         \u001b[38;5;28;01mif\u001b[39;00m \u001b[43mdfs\u001b[49m\u001b[43m(\u001b[49m\u001b[43mnx\u001b[49m\u001b[43m,\u001b[49m\u001b[43m \u001b[49m\u001b[43mny\u001b[49m\u001b[43m,\u001b[49m\u001b[43m \u001b[49m\u001b[43mgoal\u001b[49m\u001b[43m,\u001b[49m\u001b[43m \u001b[49m\u001b[43mvisited\u001b[49m\u001b[43m,\u001b[49m\u001b[43m \u001b[49m\u001b[43mpath\u001b[49m\u001b[43m)\u001b[49m:\n\u001b[32m     32\u001b[39m             \u001b[38;5;28;01mreturn\u001b[39;00m \u001b[38;5;28;01mTrue\u001b[39;00m\n\u001b[32m     33\u001b[39m path.pop()\n",
      "\u001b[36mCell\u001b[39m\u001b[36m \u001b[39m\u001b[32mIn[25]\u001b[39m\u001b[32m, line 31\u001b[39m, in \u001b[36mdfs\u001b[39m\u001b[34m(x, y, goal, visited, path)\u001b[39m\n\u001b[32m     29\u001b[39m     nx, ny = x + dx, y + dy\n\u001b[32m     30\u001b[39m     \u001b[38;5;28;01mif\u001b[39;00m is_valid(nx, ny, visited):\n\u001b[32m---> \u001b[39m\u001b[32m31\u001b[39m         \u001b[38;5;28;01mif\u001b[39;00m \u001b[43mdfs\u001b[49m\u001b[43m(\u001b[49m\u001b[43mnx\u001b[49m\u001b[43m,\u001b[49m\u001b[43m \u001b[49m\u001b[43mny\u001b[49m\u001b[43m,\u001b[49m\u001b[43m \u001b[49m\u001b[43mgoal\u001b[49m\u001b[43m,\u001b[49m\u001b[43m \u001b[49m\u001b[43mvisited\u001b[49m\u001b[43m,\u001b[49m\u001b[43m \u001b[49m\u001b[43mpath\u001b[49m\u001b[43m)\u001b[49m:\n\u001b[32m     32\u001b[39m             \u001b[38;5;28;01mreturn\u001b[39;00m \u001b[38;5;28;01mTrue\u001b[39;00m\n\u001b[32m     33\u001b[39m path.pop()\n",
      "    \u001b[31m[... skipping similar frames: dfs at line 31 (2973 times)]\u001b[39m\n",
      "\u001b[36mCell\u001b[39m\u001b[36m \u001b[39m\u001b[32mIn[25]\u001b[39m\u001b[32m, line 31\u001b[39m, in \u001b[36mdfs\u001b[39m\u001b[34m(x, y, goal, visited, path)\u001b[39m\n\u001b[32m     29\u001b[39m     nx, ny = x + dx, y + dy\n\u001b[32m     30\u001b[39m     \u001b[38;5;28;01mif\u001b[39;00m is_valid(nx, ny, visited):\n\u001b[32m---> \u001b[39m\u001b[32m31\u001b[39m         \u001b[38;5;28;01mif\u001b[39;00m \u001b[43mdfs\u001b[49m\u001b[43m(\u001b[49m\u001b[43mnx\u001b[49m\u001b[43m,\u001b[49m\u001b[43m \u001b[49m\u001b[43mny\u001b[49m\u001b[43m,\u001b[49m\u001b[43m \u001b[49m\u001b[43mgoal\u001b[49m\u001b[43m,\u001b[49m\u001b[43m \u001b[49m\u001b[43mvisited\u001b[49m\u001b[43m,\u001b[49m\u001b[43m \u001b[49m\u001b[43mpath\u001b[49m\u001b[43m)\u001b[49m:\n\u001b[32m     32\u001b[39m             \u001b[38;5;28;01mreturn\u001b[39;00m \u001b[38;5;28;01mTrue\u001b[39;00m\n\u001b[32m     33\u001b[39m path.pop()\n",
      "\u001b[36mCell\u001b[39m\u001b[36m \u001b[39m\u001b[32mIn[25]\u001b[39m\u001b[32m, line 30\u001b[39m, in \u001b[36mdfs\u001b[39m\u001b[34m(x, y, goal, visited, path)\u001b[39m\n\u001b[32m     28\u001b[39m \u001b[38;5;28;01mfor\u001b[39;00m dx, dy \u001b[38;5;129;01min\u001b[39;00m [(\u001b[32m1\u001b[39m,\u001b[32m0\u001b[39m), (\u001b[32m0\u001b[39m,-\u001b[32m1\u001b[39m), (-\u001b[32m1\u001b[39m,\u001b[32m0\u001b[39m), (\u001b[32m0\u001b[39m,\u001b[32m1\u001b[39m)]:  \u001b[38;5;66;03m# R, U, L, D\u001b[39;00m\n\u001b[32m     29\u001b[39m     nx, ny = x + dx, y + dy\n\u001b[32m---> \u001b[39m\u001b[32m30\u001b[39m     \u001b[38;5;28;01mif\u001b[39;00m \u001b[43mis_valid\u001b[49m\u001b[43m(\u001b[49m\u001b[43mnx\u001b[49m\u001b[43m,\u001b[49m\u001b[43m \u001b[49m\u001b[43mny\u001b[49m\u001b[43m,\u001b[49m\u001b[43m \u001b[49m\u001b[43mvisited\u001b[49m\u001b[43m)\u001b[49m:\n\u001b[32m     31\u001b[39m         \u001b[38;5;28;01mif\u001b[39;00m dfs(nx, ny, goal, visited, path):\n\u001b[32m     32\u001b[39m             \u001b[38;5;28;01mreturn\u001b[39;00m \u001b[38;5;28;01mTrue\u001b[39;00m\n",
      "\u001b[31mRecursionError\u001b[39m: maximum recursion depth exceeded"
     ]
    }
   ],
   "source": [
    "import cv2\n",
    "import numpy as np\n",
    "from matplotlib import pyplot as plt\n",
    "from collections import deque\n",
    "import heapq\n",
    "\n",
    "# Load the image\n",
    "maze_path = \"./maze.png\"\n",
    "maze_img = cv2.imread(maze_path)\n",
    "\n",
    "h, w = maze.shape\n",
    "start = (5, 220)\n",
    "cv2.circle(maze_img,start, 3, (255,0,0), -1)\n",
    "cv2.circle(maze_img,goal, 3, (0,0,255), -1)\n",
    "goal = (5,5)\n",
    "\n",
    "# Helper: check if a pixel is in bounds and not a wall\n",
    "def is_valid(x, y, visited):\n",
    "    return 0 <= x < w and 0 <= y < h and maze[y, x] == 1 and not visited[y][x]\n",
    "\n",
    "# DFS implementation\n",
    "def dfs(x, y, goal, visited, path):\n",
    "    if (x, y) == goal:\n",
    "        path.append((x, y))\n",
    "        return True\n",
    "    visited[y][x] = True\n",
    "    path.append((x, y))\n",
    "    for dx, dy in [(1,0), (0,-1), (-1,0), (0,1)]:  # R, U, L, D\n",
    "        nx, ny = x + dx, y + dy\n",
    "        if is_valid(nx, ny, visited):\n",
    "            if dfs(nx, ny, goal, visited, path):\n",
    "                return True\n",
    "    path.pop()\n",
    "    return False\n",
    "\n",
    "\n",
    "visited_dfs = [[False]*w for _ in range(h)] #create a true false matrix\n",
    "dfs_path = []\n",
    "# dfs(start[0], start[1], goal, visited_dfs, dfs_path)\n",
    "\n",
    "print(dfs_path)\n",
    "\n",
    "plt.imshow(maze_img)\n",
    "plt.show()"
   ]
  }
 ],
 "metadata": {
  "kernelspec": {
   "display_name": "myvenv",
   "language": "python",
   "name": "python3"
  },
  "language_info": {
   "codemirror_mode": {
    "name": "ipython",
    "version": 3
   },
   "file_extension": ".py",
   "mimetype": "text/x-python",
   "name": "python",
   "nbconvert_exporter": "python",
   "pygments_lexer": "ipython3",
   "version": "3.13.1"
  }
 },
 "nbformat": 4,
 "nbformat_minor": 5
}
